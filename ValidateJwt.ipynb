{
 "cells": [
  {
   "cell_type": "code",
   "execution_count": null,
   "id": "9b7ab089",
   "metadata": {},
   "outputs": [],
   "source": [
    "#!/usr/bin/env python\n",
    "from flask import Flask, request, send_file, Blueprint\n",
    "import os\n",
    "import sys\n",
    "import io\n",
    "import requests\n",
    "from flask.json import jsonify\n",
    "import jwt\n",
    "from random import randint\n",
    "import datetime\n",
    "\n",
    "def validate_jwt(func):\n",
    "    def wrapped():\n",
    "        token = request.headers.get(\"jwt\")\n",
    "        if not token:\n",
    "            return jsonify({'message':'Missing token'}), 403\n",
    "        try:\n",
    "            decoded = jwt.decode(\n",
    "                token, \n",
    "                key=os.getenv('JWT_AUTHENTICATION_KEY'), \n",
    "                algorithms=[\"HS256\"])\n",
    "        except:\n",
    "            return jsonify({'message':\"Invalid token\"}),403\n",
    "        return func()\n",
    "    return wrapped\n"
   ]
  }
 ],
 "metadata": {
  "kernelspec": {
   "display_name": "Python 3 (ipykernel)",
   "language": "python",
   "name": "python3"
  },
  "language_info": {
   "codemirror_mode": {
    "name": "ipython",
    "version": 3
   },
   "file_extension": ".py",
   "mimetype": "text/x-python",
   "name": "python",
   "nbconvert_exporter": "python",
   "pygments_lexer": "ipython3",
   "version": "3.11.2"
  }
 },
 "nbformat": 4,
 "nbformat_minor": 5
}
